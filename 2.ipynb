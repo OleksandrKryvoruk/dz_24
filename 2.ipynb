{
 "cells": [
  {
   "cell_type": "markdown",
   "id": "28006a0a",
   "metadata": {},
   "source": [
    "**Умова:**\n",
    "\n",
    "Є можливість вибрати спосіб виробництва і реалізації двох наборів товарів широкого вжитку. За даними відділу маркетингу, \n",
    "яким були проведені дослідження ринку, можливий прибуток від виробництва і реалізації X i Y наведено в таблицях \n",
    "(X, Y - прибуток у грошових одиницях):\n",
    "\n",
    "\n",
    "| X    |  1000  |  1500  | 2000 |\n",
    "| :--- | :----: | :----: | ---: |\n",
    "|  P   |  0,5   |  0,3   |  0,2 |      \n",
    "\n",
    "\n",
    "| Y    |  1000  |  1500  | 1750 |\n",
    "| :--- | :----: | :----: | ---: |\n",
    "|  P   |  0,4   |  0,4   |  0,2 |      \n",
    "\n",
    "\n",
    "Потрібно оцінити ступінь ризику і запропонувати рішення щодо випуску і реалізації одного із наборів товарів.\n"
   ]
  },
  {
   "cell_type": "markdown",
   "id": "b58eca1d",
   "metadata": {},
   "source": [
    "**Вирішення:**"
   ]
  },
  {
   "cell_type": "code",
   "execution_count": 38,
   "id": "32f86d65",
   "metadata": {},
   "outputs": [],
   "source": [
    "import pandas as pd\n",
    "import math\n",
    "\n",
    "df_x = pd.DataFrame({\"X\" : [1000, 1500, 2000],\n",
    "                     \"P\" : [0.5, 0.3, 0.2]})\n",
    "\n",
    "df_y = pd.DataFrame({\"Y\" : [1000, 1500, 1750],\n",
    "                     \"P\" : [0.4, 0.4, 0.2]})\n"
   ]
  },
  {
   "cell_type": "markdown",
   "id": "df83bb7c",
   "metadata": {},
   "source": [
    "**1. Визначення математичного очікування прибутку по кожному проекту:**"
   ]
  },
  {
   "cell_type": "code",
   "execution_count": 39,
   "id": "8d8328de",
   "metadata": {},
   "outputs": [
    {
     "name": "stdout",
     "output_type": "stream",
     "text": [
      " Математичне очікування прибутку по товару X: 1350.0, a по товвару Y: 1350.0\n"
     ]
    }
   ],
   "source": [
    "df_x[\"math_value\"] = [df_x[\"X\"][i] * df_x[\"P\"][i] for i in range(len(df_x[\"X\"]))]\n",
    "df_y[\"math_value\"] = [df_y[\"Y\"][i] * df_y[\"P\"][i] for i in range(len(df_y[\"Y\"]))]\n",
    "EV_x = df_x['math_value'].sum()\n",
    "EV_y = df_y['math_value'].sum()\n",
    "print(f\" Математичне очікування прибутку по товару X: {EV_x}, a по товвару Y: {EV_y}\")"
   ]
  },
  {
   "cell_type": "markdown",
   "id": "d3affb0e",
   "metadata": {},
   "source": [
    "Очікування прибутку по впровадженню даних груп товарів рівні.\n",
    "\n",
    "\n"
   ]
  },
  {
   "cell_type": "markdown",
   "id": "30f5442f",
   "metadata": {},
   "source": [
    "**2. Визначення ступінь ризику при виробництві даних груп товарів.**"
   ]
  },
  {
   "cell_type": "markdown",
   "id": "beae0b8c",
   "metadata": {},
   "source": [
    "Для визначення ступеню ризику, необхідно визначити стандартне відхилення від математичного очікування по кожній групі товару:"
   ]
  },
  {
   "cell_type": "code",
   "execution_count": 40,
   "id": "8af23085",
   "metadata": {},
   "outputs": [
    {
     "name": "stdout",
     "output_type": "stream",
     "text": [
      "Стандратне відхилення для групи товарів X: 390.51248379533274, а для групи Y: 300.0\n"
     ]
    }
   ],
   "source": [
    "df_x[\"disp_value\"] = [((df_x[\"X\"][i] - EV_x)**2)*df_x[\"P\"][i] for i in range(len(df_x[\"X\"]))]\n",
    "df_y[\"disp_value\"] = [((df_y[\"Y\"][i] - EV_y)**2)*df_y[\"P\"][i] for i in range(len(df_y[\"Y\"]))]\n",
    "print(f\"Стандратне відхилення для групи товарів X: {math.sqrt(df_x['disp_value'].sum())}, а для групи Y: {math.sqrt(df_y['disp_value'].sum())}\")"
   ]
  },
  {
   "cell_type": "markdown",
   "id": "650f8d83",
   "metadata": {},
   "source": [
    "**Група товарів Х у випуску і реалізації має більший ризик у зв'язку з більшим відхиленням можливих значень від очікуємого\n",
    "прибутку. Рекомендую впроваджувати у випуск групу товарів Y.**"
   ]
  },
  {
   "cell_type": "code",
   "execution_count": null,
   "id": "153a5d9a",
   "metadata": {},
   "outputs": [],
   "source": []
  }
 ],
 "metadata": {
  "kernelspec": {
   "display_name": "Python 3 (ipykernel)",
   "language": "python",
   "name": "python3"
  },
  "language_info": {
   "codemirror_mode": {
    "name": "ipython",
    "version": 3
   },
   "file_extension": ".py",
   "mimetype": "text/x-python",
   "name": "python",
   "nbconvert_exporter": "python",
   "pygments_lexer": "ipython3",
   "version": "3.9.7"
  }
 },
 "nbformat": 4,
 "nbformat_minor": 5
}
